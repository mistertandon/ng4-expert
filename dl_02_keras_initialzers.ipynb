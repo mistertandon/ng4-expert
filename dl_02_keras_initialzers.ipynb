{
 "cells": [
  {
   "cell_type": "code",
   "execution_count": 31,
   "metadata": {},
   "outputs": [],
   "source": [
    "import numpy as np"
   ]
  },
  {
   "cell_type": "code",
   "execution_count": 32,
   "metadata": {},
   "outputs": [],
   "source": [
    "np.random.seed(6)"
   ]
  },
  {
   "cell_type": "code",
   "execution_count": 33,
   "metadata": {},
   "outputs": [],
   "source": [
    "import tensorflow as tf"
   ]
  },
  {
   "cell_type": "code",
   "execution_count": 43,
   "metadata": {},
   "outputs": [],
   "source": [
    "from tensorflow.keras.models import Sequential\n",
    "from tensorflow.keras.layers import Dense\n",
    "from tensorflow.keras.initializers import VarianceScaling, constant, GlorotNormal\n",
    "from tensorflow.compat.v1.random import set_random_seed"
   ]
  },
  {
   "cell_type": "code",
   "execution_count": 35,
   "metadata": {},
   "outputs": [
    {
     "data": {
      "text/plain": [
       "array(['Constant', 'GlorotNormal', 'GlorotUniform', 'he_normal',\n",
       "       'he_uniform'], dtype='<U16')"
      ]
     },
     "execution_count": 35,
     "metadata": {},
     "output_type": "execute_result"
    }
   ],
   "source": [
    "initializers = np.array([ 'Constant', 'GlorotNormal', 'GlorotUniform', 'he_normal', 'he_uniform', 'Identity', 'lecun_normal', 'lecun_uniform', 'Ones', 'Orthogonal', 'RandomNormal', 'RandomUniform', 'TruncatedNormal', 'VarianceScaling', 'Zeros', 'constant', 'glorot_normal', 'glorot_uniform', 'he_normal', 'he_uniform', 'identity', 'lecun_normal', 'lecun_uniform', 'ones', 'orthogonal', 'random_normal', 'random_uniform', 'truncated_normal', 'variance_scaling', 'zeros' ])\n",
    "initializers[:5]"
   ]
  },
  {
   "cell_type": "code",
   "execution_count": 40,
   "metadata": {},
   "outputs": [],
   "source": [
    "def show_weights(model):\n",
    "\n",
    "    for layer in model.layers:\n",
    "\n",
    "        weight = layer.get_weights()\n",
    "        print(weight)\n",
    "\n",
    "    return True"
   ]
  },
  {
   "cell_type": "code",
   "execution_count": 41,
   "metadata": {},
   "outputs": [
    {
     "name": "stdout",
     "output_type": "stream",
     "text": [
      "[array([[9., 9., 9., 9., 9., 9., 9., 9.],\n",
      "       [9., 9., 9., 9., 9., 9., 9., 9.],\n",
      "       [9., 9., 9., 9., 9., 9., 9., 9.],\n",
      "       [9., 9., 9., 9., 9., 9., 9., 9.],\n",
      "       [9., 9., 9., 9., 9., 9., 9., 9.],\n",
      "       [9., 9., 9., 9., 9., 9., 9., 9.],\n",
      "       [9., 9., 9., 9., 9., 9., 9., 9.],\n",
      "       [9., 9., 9., 9., 9., 9., 9., 9.]], dtype=float32), array([0., 0., 0., 0., 0., 0., 0., 0.], dtype=float32)]\n"
     ]
    },
    {
     "data": {
      "text/plain": [
       "True"
      ]
     },
     "execution_count": 41,
     "metadata": {},
     "output_type": "execute_result"
    }
   ],
   "source": [
    "constant_init = constant(value = 9)\n",
    "constant_model = Sequential()\n",
    "constant_model.add(Dense(8, input_shape = (8, ), kernel_initializer = constant_init))\n",
    "show_weights(constant_model)"
   ]
  },
  {
   "cell_type": "markdown",
   "metadata": {},
   "source": [
    "#### GlorotNormal kernel initializer"
   ]
  },
  {
   "cell_type": "code",
   "execution_count": 44,
   "metadata": {},
   "outputs": [
    {
     "name": "stdout",
     "output_type": "stream",
     "text": [
      "[array([[-0.68209934, -0.19348271, -0.26617697,  0.03497295, -0.10683383,\n",
      "         0.03635491, -0.3428115 ,  0.29009834],\n",
      "       [ 0.6686501 , -0.04706721,  0.15338056,  0.18707098, -0.23599736,\n",
      "        -0.0154672 , -0.23842064,  0.13924173],\n",
      "       [ 0.36894402,  0.10417961, -0.44343334, -0.53933185,  0.39739266,\n",
      "        -0.13013324,  0.54159564,  0.42011642],\n",
      "       [-0.49822113,  0.43264237,  0.43433946,  0.1240067 ,  0.03155813,\n",
      "         0.2266172 , -0.18419772,  0.26519337],\n",
      "       [ 0.34029472, -0.5443729 , -0.05199324, -0.5451052 , -0.10069335,\n",
      "        -0.05688889, -0.51283437,  0.15434295],\n",
      "       [ 0.38627452,  0.12349917, -0.17112927, -0.16828446, -0.76604706,\n",
      "        -0.1839596 ,  0.57489675,  0.09301861],\n",
      "       [-0.25343543,  0.25609827, -0.10423665, -0.53450584,  0.06895908,\n",
      "         0.34061694,  0.5780484 ,  0.2851044 ],\n",
      "       [-0.4328602 , -0.2281832 ,  0.44535768, -0.2538807 , -0.02688705,\n",
      "        -0.5822111 ,  0.3731011 , -0.7972619 ]], dtype=float32), array([0., 0., 0., 0., 0., 0., 0., 0.], dtype=float32)]\n"
     ]
    },
    {
     "data": {
      "text/plain": [
       "True"
      ]
     },
     "execution_count": 44,
     "metadata": {},
     "output_type": "execute_result"
    }
   ],
   "source": [
    "glorot_normal_init = GlorotNormal(seed = 0)\n",
    "glorot_normal_model = Sequential()\n",
    "glorot_normal_model.add(Dense(8, input_shape = (8, ), kernel_initializer = glorot_normal_init))\n",
    "\n",
    "show_weights(glorot_normal_model)"
   ]
  },
  {
   "cell_type": "code",
   "execution_count": 42,
   "metadata": {},
   "outputs": [
    {
     "name": "stdout",
     "output_type": "stream",
     "text": [
      "[array([[-0.12342047, -0.37808934, -0.03241328, -0.13502964,  0.28726408,\n",
      "        -0.61566067, -0.01887337,  0.02535614],\n",
      "       [ 0.44827124, -0.35824397,  0.67948645, -0.13699828, -0.15741801,\n",
      "        -0.1630403 ,  0.16005418, -0.40210328],\n",
      "       [ 0.28636983, -0.66140366, -0.53163636, -0.14087814, -0.3437077 ,\n",
      "        -0.49791628,  0.22174573, -0.5952468 ],\n",
      "       [ 0.5484769 ,  0.11372091,  0.11522453,  0.33945277,  0.6552242 ,\n",
      "        -0.46990377,  0.15922418,  0.38505158],\n",
      "       [-0.24853659, -0.2032237 , -0.03361715,  0.25748673,  0.19217727,\n",
      "         0.01791675, -0.16974759,  0.35244626],\n",
      "       [ 0.2900919 , -0.16967776, -0.02403103,  0.34724396, -0.47863433,\n",
      "         0.23626053,  0.66346073,  0.1183454 ],\n",
      "       [-0.75589585, -0.14389682,  0.33041835,  0.14345208, -0.37235782,\n",
      "         0.12838651,  0.22777878,  0.19023983],\n",
      "       [-0.04110845, -0.19409363, -0.01313176,  0.09141319, -0.6260015 ,\n",
      "         0.6482828 ,  0.2762846 , -0.08842798]], dtype=float32), array([0., 0., 0., 0., 0., 0., 0., 0.], dtype=float32)]\n"
     ]
    },
    {
     "data": {
      "text/plain": [
       "True"
      ]
     },
     "execution_count": 42,
     "metadata": {},
     "output_type": "execute_result"
    }
   ],
   "source": [
    "variance_scaling_init = VarianceScaling(scale=1.0, mode='fan_in', distribution='truncated_normal', seed=set_random_seed(6))\n",
    "\n",
    "variance_scaling_model = Sequential()\n",
    "variance_scaling_model.add(Dense(8, input_shape = (8, ), kernel_initializer = variance_scaling_init))\n",
    "\n",
    "show_weights(variance_scaling_model)"
   ]
  },
  {
   "cell_type": "code",
   "execution_count": null,
   "metadata": {},
   "outputs": [],
   "source": []
  },
  {
   "cell_type": "code",
   "execution_count": null,
   "metadata": {},
   "outputs": [],
   "source": []
  },
  {
   "cell_type": "code",
   "execution_count": null,
   "metadata": {},
   "outputs": [],
   "source": []
  },
  {
   "cell_type": "code",
   "execution_count": null,
   "metadata": {},
   "outputs": [],
   "source": []
  },
  {
   "cell_type": "code",
   "execution_count": null,
   "metadata": {},
   "outputs": [],
   "source": []
  },
  {
   "cell_type": "code",
   "execution_count": null,
   "metadata": {},
   "outputs": [],
   "source": []
  },
  {
   "cell_type": "code",
   "execution_count": null,
   "metadata": {},
   "outputs": [],
   "source": []
  },
  {
   "cell_type": "code",
   "execution_count": null,
   "metadata": {},
   "outputs": [],
   "source": []
  },
  {
   "cell_type": "code",
   "execution_count": null,
   "metadata": {},
   "outputs": [],
   "source": []
  },
  {
   "cell_type": "code",
   "execution_count": null,
   "metadata": {},
   "outputs": [],
   "source": []
  },
  {
   "cell_type": "code",
   "execution_count": null,
   "metadata": {},
   "outputs": [],
   "source": []
  },
  {
   "cell_type": "code",
   "execution_count": null,
   "metadata": {},
   "outputs": [],
   "source": []
  },
  {
   "cell_type": "code",
   "execution_count": null,
   "metadata": {},
   "outputs": [],
   "source": []
  },
  {
   "cell_type": "code",
   "execution_count": null,
   "metadata": {},
   "outputs": [],
   "source": []
  },
  {
   "cell_type": "code",
   "execution_count": null,
   "metadata": {},
   "outputs": [],
   "source": []
  },
  {
   "cell_type": "code",
   "execution_count": null,
   "metadata": {},
   "outputs": [],
   "source": []
  },
  {
   "cell_type": "code",
   "execution_count": null,
   "metadata": {},
   "outputs": [],
   "source": []
  },
  {
   "cell_type": "code",
   "execution_count": null,
   "metadata": {},
   "outputs": [],
   "source": []
  },
  {
   "cell_type": "code",
   "execution_count": null,
   "metadata": {},
   "outputs": [],
   "source": []
  }
 ],
 "metadata": {
  "kernelspec": {
   "display_name": "Python 3",
   "language": "python",
   "name": "python3"
  },
  "language_info": {
   "codemirror_mode": {
    "name": "ipython",
    "version": 3
   },
   "file_extension": ".py",
   "mimetype": "text/x-python",
   "name": "python",
   "nbconvert_exporter": "python",
   "pygments_lexer": "ipython3",
   "version": "3.7.0"
  }
 },
 "nbformat": 4,
 "nbformat_minor": 2
}
