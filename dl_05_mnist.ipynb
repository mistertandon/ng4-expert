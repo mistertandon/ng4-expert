{
 "cells": [
  {
   "cell_type": "code",
   "execution_count": 20,
   "metadata": {},
   "outputs": [],
   "source": [
    "import numpy as np"
   ]
  },
  {
   "cell_type": "code",
   "execution_count": 21,
   "metadata": {},
   "outputs": [],
   "source": [
    "np.random.seed(42)"
   ]
  },
  {
   "cell_type": "code",
   "execution_count": 22,
   "metadata": {},
   "outputs": [],
   "source": [
    "import tensorflow as tf"
   ]
  },
  {
   "cell_type": "code",
   "execution_count": 23,
   "metadata": {},
   "outputs": [],
   "source": [
    "from tensorflow.keras.datasets import mnist\n",
    "from tensorflow.keras.models import Sequential\n",
    "from tensorflow.keras.layers import Dense, Dropout, Activation\n",
    "from tensorflow.keras.utils import to_categorical\n",
    "from tensorflow.keras.optimizers import Adam"
   ]
  },
  {
   "cell_type": "code",
   "execution_count": 25,
   "metadata": {},
   "outputs": [],
   "source": [
    "(D_Train, Y_Train), (D_Test, Y_Test) = mnist.load_data()"
   ]
  },
  {
   "cell_type": "code",
   "execution_count": 26,
   "metadata": {},
   "outputs": [
    {
     "name": "stdout",
     "output_type": "stream",
     "text": [
      "D_Train shape :  (60000, 28, 28)\n",
      "Y_Train shape  :  (60000,)\n",
      "D_Test shape :  (10000, 28, 28)\n",
      "Y_Test shape  :  (10000,)\n"
     ]
    }
   ],
   "source": [
    "print('D_Train shape : ', D_Train.shape)\n",
    "print('Y_Train shape  : ', Y_Train.shape)\n",
    "\n",
    "print('D_Test shape : ', D_Test.shape)\n",
    "print('Y_Test shape  : ', Y_Test.shape)"
   ]
  },
  {
   "cell_type": "code",
   "execution_count": 27,
   "metadata": {},
   "outputs": [
    {
     "name": "stdout",
     "output_type": "stream",
     "text": [
      "0\n",
      "255\n"
     ]
    }
   ],
   "source": [
    "print(D_Train.min())\n",
    "print(D_Train.max())"
   ]
  },
  {
   "cell_type": "code",
   "execution_count": 28,
   "metadata": {},
   "outputs": [],
   "source": [
    "imput_pixels = np.multiply(D_Train.shape[1], D_Train.shape[2])\n",
    "d_train = D_Train.reshape(D_Train.shape[0], imput_pixels)\n",
    "d_test = D_Test.reshape(D_Test.shape[0], imput_pixels)"
   ]
  },
  {
   "cell_type": "code",
   "execution_count": 29,
   "metadata": {},
   "outputs": [
    {
     "name": "stdout",
     "output_type": "stream",
     "text": [
      "d_train shape :  (60000, 784)\n",
      "d_test shape  :  (10000, 784)\n"
     ]
    }
   ],
   "source": [
    "print('d_train shape : ', d_train.shape)\n",
    "print('d_test shape  : ', d_test.shape)"
   ]
  },
  {
   "cell_type": "code",
   "execution_count": 30,
   "metadata": {},
   "outputs": [
    {
     "name": "stdout",
     "output_type": "stream",
     "text": [
      "<class 'numpy.ndarray'>\n",
      "(60000, 10)\n"
     ]
    }
   ],
   "source": [
    "y_train = to_categorical(Y_Train, 10)\n",
    "print(type(y_train))\n",
    "print(y_train.shape)"
   ]
  },
  {
   "cell_type": "code",
   "execution_count": 31,
   "metadata": {},
   "outputs": [
    {
     "name": "stdout",
     "output_type": "stream",
     "text": [
      "<class 'numpy.ndarray'>\n",
      "(10000, 10)\n"
     ]
    }
   ],
   "source": [
    "y_test = to_categorical(Y_Test, 10)\n",
    "print(type(y_test))\n",
    "print(y_test.shape)"
   ]
  },
  {
   "cell_type": "code",
   "execution_count": 32,
   "metadata": {},
   "outputs": [],
   "source": [
    "d_train = np.divide(d_train, d_train.max())\n",
    "d_test = np.divide(d_test, d_test.max())"
   ]
  },
  {
   "cell_type": "code",
   "execution_count": 33,
   "metadata": {},
   "outputs": [],
   "source": [
    "model = Sequential()"
   ]
  },
  {
   "cell_type": "code",
   "execution_count": 34,
   "metadata": {},
   "outputs": [],
   "source": [
    "model.add(Dense(imput_pixels, activation = 'relu', input_dim = imput_pixels, kernel_initializer = 'normal'))\n",
    "model.add(Dense(10, activation = 'softmax', kernel_initializer = 'normal'))"
   ]
  },
  {
   "cell_type": "code",
   "execution_count": 35,
   "metadata": {},
   "outputs": [],
   "source": [
    "optimizer = Adam(learning_rate = 0.05)"
   ]
  },
  {
   "cell_type": "code",
   "execution_count": 36,
   "metadata": {},
   "outputs": [],
   "source": [
    "model.compile(optimizer = optimizer, loss = 'categorical_crossentropy', metrics = ['accuracy'])"
   ]
  },
  {
   "cell_type": "code",
   "execution_count": 37,
   "metadata": {},
   "outputs": [
    {
     "name": "stdout",
     "output_type": "stream",
     "text": [
      "Train on 48000 samples, validate on 12000 samples\n",
      "Epoch 1/20\n",
      "48000/48000 [==============================] - 3s 65us/sample - loss: 0.6271 - accuracy: 0.8774 - val_loss: 0.3458 - val_accuracy: 0.9159\n",
      "Epoch 2/20\n",
      "48000/48000 [==============================] - 2s 52us/sample - loss: 0.3819 - accuracy: 0.9076 - val_loss: 0.4034 - val_accuracy: 0.9003\n",
      "Epoch 3/20\n",
      "48000/48000 [==============================] - 3s 53us/sample - loss: 0.3865 - accuracy: 0.9077 - val_loss: 0.4232 - val_accuracy: 0.9107\n",
      "Epoch 4/20\n",
      "48000/48000 [==============================] - 3s 53us/sample - loss: 0.4022 - accuracy: 0.9034 - val_loss: 0.3678 - val_accuracy: 0.9134\n",
      "Epoch 5/20\n",
      "48000/48000 [==============================] - 3s 54us/sample - loss: 0.3966 - accuracy: 0.9048 - val_loss: 0.4939 - val_accuracy: 0.9042\n",
      "Epoch 6/20\n",
      "48000/48000 [==============================] - 3s 52us/sample - loss: 0.3763 - accuracy: 0.9078 - val_loss: 0.4121 - val_accuracy: 0.9053\n",
      "Epoch 7/20\n",
      "48000/48000 [==============================] - 3s 53us/sample - loss: 0.3755 - accuracy: 0.9098 - val_loss: 0.4186 - val_accuracy: 0.9010\n",
      "Epoch 8/20\n",
      "48000/48000 [==============================] - 3s 52us/sample - loss: 0.3778 - accuracy: 0.9107 - val_loss: 0.4347 - val_accuracy: 0.9072\n",
      "Epoch 9/20\n",
      "48000/48000 [==============================] - 3s 52us/sample - loss: 0.4025 - accuracy: 0.9056 - val_loss: 0.4596 - val_accuracy: 0.9057\n",
      "Epoch 10/20\n",
      "48000/48000 [==============================] - 3s 54us/sample - loss: 0.3655 - accuracy: 0.9130 - val_loss: 0.4044 - val_accuracy: 0.9040\n",
      "Epoch 11/20\n",
      "48000/48000 [==============================] - 3s 53us/sample - loss: 0.3802 - accuracy: 0.9082 - val_loss: 0.4453 - val_accuracy: 0.8953\n",
      "Epoch 12/20\n",
      "48000/48000 [==============================] - 3s 53us/sample - loss: 0.3702 - accuracy: 0.9094 - val_loss: 0.4126 - val_accuracy: 0.9007\n",
      "Epoch 13/20\n",
      "48000/48000 [==============================] - 3s 53us/sample - loss: 0.3454 - accuracy: 0.9158 - val_loss: 0.4690 - val_accuracy: 0.8925\n",
      "Epoch 14/20\n",
      "48000/48000 [==============================] - 3s 53us/sample - loss: 0.3856 - accuracy: 0.9063 - val_loss: 0.4508 - val_accuracy: 0.9128\n",
      "Epoch 15/20\n",
      "48000/48000 [==============================] - 3s 54us/sample - loss: 0.3718 - accuracy: 0.9099 - val_loss: 0.4030 - val_accuracy: 0.9128\n",
      "Epoch 16/20\n",
      "48000/48000 [==============================] - 3s 52us/sample - loss: 0.3560 - accuracy: 0.9105 - val_loss: 0.4781 - val_accuracy: 0.9107\n",
      "Epoch 17/20\n",
      "48000/48000 [==============================] - 3s 53us/sample - loss: 0.3609 - accuracy: 0.9114 - val_loss: 0.4995 - val_accuracy: 0.9141\n",
      "Epoch 18/20\n",
      "48000/48000 [==============================] - 3s 52us/sample - loss: 0.3577 - accuracy: 0.9110 - val_loss: 0.4821 - val_accuracy: 0.9156\n",
      "Epoch 19/20\n",
      "48000/48000 [==============================] - 3s 55us/sample - loss: 0.3589 - accuracy: 0.9136 - val_loss: 0.4975 - val_accuracy: 0.9010\n",
      "Epoch 20/20\n",
      "48000/48000 [==============================] - 3s 55us/sample - loss: 0.3798 - accuracy: 0.9031 - val_loss: 0.5732 - val_accuracy: 0.9045\n"
     ]
    },
    {
     "data": {
      "text/plain": [
       "<tensorflow.python.keras.callbacks.History at 0x1c6d3b5eba8>"
      ]
     },
     "execution_count": 37,
     "metadata": {},
     "output_type": "execute_result"
    }
   ],
   "source": [
    "model.fit(d_train, y = y_train, batch_size = 64, validation_split = 0.2, epochs = 20)"
   ]
  },
  {
   "cell_type": "code",
   "execution_count": null,
   "metadata": {},
   "outputs": [],
   "source": []
  },
  {
   "cell_type": "code",
   "execution_count": null,
   "metadata": {},
   "outputs": [],
   "source": []
  },
  {
   "cell_type": "code",
   "execution_count": null,
   "metadata": {},
   "outputs": [],
   "source": []
  },
  {
   "cell_type": "code",
   "execution_count": null,
   "metadata": {},
   "outputs": [],
   "source": []
  },
  {
   "cell_type": "code",
   "execution_count": null,
   "metadata": {},
   "outputs": [],
   "source": []
  },
  {
   "cell_type": "code",
   "execution_count": null,
   "metadata": {},
   "outputs": [],
   "source": []
  },
  {
   "cell_type": "code",
   "execution_count": null,
   "metadata": {},
   "outputs": [],
   "source": []
  }
 ],
 "metadata": {
  "kernelspec": {
   "display_name": "Python 3",
   "language": "python",
   "name": "python3"
  },
  "language_info": {
   "codemirror_mode": {
    "name": "ipython",
    "version": 3
   },
   "file_extension": ".py",
   "mimetype": "text/x-python",
   "name": "python",
   "nbconvert_exporter": "python",
   "pygments_lexer": "ipython3",
   "version": "3.7.0"
  }
 },
 "nbformat": 4,
 "nbformat_minor": 2
}
