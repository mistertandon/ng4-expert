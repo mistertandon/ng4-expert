{
 "cells": [
  {
   "cell_type": "code",
   "execution_count": 1,
   "metadata": {},
   "outputs": [],
   "source": [
    "import numpy as np"
   ]
  },
  {
   "cell_type": "code",
   "execution_count": 2,
   "metadata": {},
   "outputs": [],
   "source": [
    "from tensorflow.keras.datasets import mnist\n",
    "from tensorflow.keras.models import Sequential\n",
    "from tensorflow.keras.layers import Dense, Dropout, Activation\n",
    "from tensorflow.keras.utils import to_categorical"
   ]
  },
  {
   "cell_type": "code",
   "execution_count": 3,
   "metadata": {},
   "outputs": [],
   "source": [
    "(D_Train, Y_Train), (D_Test, Y_Test) = mnist.load_data()"
   ]
  },
  {
   "cell_type": "code",
   "execution_count": 4,
   "metadata": {},
   "outputs": [
    {
     "name": "stdout",
     "output_type": "stream",
     "text": [
      "D_Train shape :  (60000, 28, 28)\n",
      "Y_Train shape  :  (60000,)\n",
      "D_Test shape :  (10000, 28, 28)\n",
      "Y_Test shape  :  (10000,)\n"
     ]
    }
   ],
   "source": [
    "print('D_Train shape : ', D_Train.shape)\n",
    "print('Y_Train shape  : ', Y_Train.shape)\n",
    "\n",
    "print('D_Test shape : ', D_Test.shape)\n",
    "print('Y_Test shape  : ', Y_Test.shape)"
   ]
  },
  {
   "cell_type": "code",
   "execution_count": 5,
   "metadata": {},
   "outputs": [],
   "source": [
    "d_train = D_Train.reshape(D_Train.shape[0], np.multiply(D_Train.shape[1], D_Train.shape[2]))\n",
    "d_test = D_Test.reshape(D_Test.shape[0], np.multiply(D_Test.shape[1], D_Test.shape[2]))"
   ]
  },
  {
   "cell_type": "code",
   "execution_count": 6,
   "metadata": {},
   "outputs": [
    {
     "name": "stdout",
     "output_type": "stream",
     "text": [
      "d_train shape :  (60000, 784)\n",
      "d_test shape  :  (10000, 784)\n"
     ]
    }
   ],
   "source": [
    "print('d_train shape : ', d_train.shape)\n",
    "print('d_test shape  : ', d_test.shape)"
   ]
  },
  {
   "cell_type": "code",
   "execution_count": 7,
   "metadata": {},
   "outputs": [
    {
     "name": "stdout",
     "output_type": "stream",
     "text": [
      "<class 'numpy.ndarray'>\n",
      "(60000, 10)\n"
     ]
    }
   ],
   "source": [
    "y_train = to_categorical(Y_Train, 10)\n",
    "print(type(y_train))\n",
    "print(y_train.shape)"
   ]
  },
  {
   "cell_type": "code",
   "execution_count": 11,
   "metadata": {},
   "outputs": [
    {
     "name": "stdout",
     "output_type": "stream",
     "text": [
      "<class 'numpy.ndarray'>\n",
      "(10000, 10)\n"
     ]
    }
   ],
   "source": [
    "y_test = to_categorical(Y_Test, 10)\n",
    "print(type(y_test))\n",
    "print(y_test.shape)"
   ]
  },
  {
   "cell_type": "code",
   "execution_count": 9,
   "metadata": {},
   "outputs": [],
   "source": [
    "model = Sequential()"
   ]
  }
 ],
 "metadata": {
  "kernelspec": {
   "display_name": "Python 3",
   "language": "python",
   "name": "python3"
  },
  "language_info": {
   "codemirror_mode": {
    "name": "ipython",
    "version": 3
   },
   "file_extension": ".py",
   "mimetype": "text/x-python",
   "name": "python",
   "nbconvert_exporter": "python",
   "pygments_lexer": "ipython3",
   "version": "3.7.0"
  }
 },
 "nbformat": 4,
 "nbformat_minor": 2
}
