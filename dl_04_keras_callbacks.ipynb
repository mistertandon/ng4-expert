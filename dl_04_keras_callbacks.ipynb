{
 "cells": [
  {
   "cell_type": "code",
   "execution_count": 17,
   "metadata": {},
   "outputs": [],
   "source": [
    "import numpy as np"
   ]
  },
  {
   "cell_type": "code",
   "execution_count": 18,
   "metadata": {},
   "outputs": [],
   "source": [
    "import tensorflow as tf"
   ]
  },
  {
   "cell_type": "code",
   "execution_count": 19,
   "metadata": {},
   "outputs": [],
   "source": [
    "from tensorflow.keras.datasets import mnist\n",
    "from tensorflow.keras.models import Sequential\n",
    "from tensorflow.keras.layers import Dense, Dropout, Activation\n",
    "from tensorflow.keras.utils import to_categorical\n",
    "from tensorflow.keras.optimizers import Adam\n",
    "from tensorflow.keras.losses import binary_crossentropy"
   ]
  },
  {
   "cell_type": "code",
   "execution_count": 20,
   "metadata": {},
   "outputs": [],
   "source": [
    "(D_Train, Y_Train), (D_Test, Y_Test) = mnist.load_data()"
   ]
  },
  {
   "cell_type": "code",
   "execution_count": 21,
   "metadata": {},
   "outputs": [
    {
     "name": "stdout",
     "output_type": "stream",
     "text": [
      "D_Train shape :  (60000, 28, 28)\n",
      "Y_Train shape  :  (60000,)\n",
      "D_Test shape :  (10000, 28, 28)\n",
      "Y_Test shape  :  (10000,)\n"
     ]
    }
   ],
   "source": [
    "print('D_Train shape : ', D_Train.shape)\n",
    "print('Y_Train shape  : ', Y_Train.shape)\n",
    "\n",
    "print('D_Test shape : ', D_Test.shape)\n",
    "print('Y_Test shape  : ', Y_Test.shape)"
   ]
  },
  {
   "cell_type": "code",
   "execution_count": 22,
   "metadata": {},
   "outputs": [],
   "source": [
    "d_train = D_Train.reshape(D_Train.shape[0], np.multiply(D_Train.shape[1], D_Train.shape[2]))\n",
    "d_test = D_Test.reshape(D_Test.shape[0], np.multiply(D_Test.shape[1], D_Test.shape[2]))"
   ]
  },
  {
   "cell_type": "code",
   "execution_count": 23,
   "metadata": {},
   "outputs": [
    {
     "name": "stdout",
     "output_type": "stream",
     "text": [
      "d_train shape :  (60000, 784)\n",
      "d_test shape  :  (10000, 784)\n"
     ]
    }
   ],
   "source": [
    "print('d_train shape : ', d_train.shape)\n",
    "print('d_test shape  : ', d_test.shape)"
   ]
  },
  {
   "cell_type": "code",
   "execution_count": 24,
   "metadata": {},
   "outputs": [
    {
     "name": "stdout",
     "output_type": "stream",
     "text": [
      "<class 'numpy.ndarray'>\n",
      "(60000, 10)\n"
     ]
    }
   ],
   "source": [
    "y_train = to_categorical(Y_Train, 10)\n",
    "print(type(y_train))\n",
    "print(y_train.shape)"
   ]
  },
  {
   "cell_type": "code",
   "execution_count": 25,
   "metadata": {},
   "outputs": [
    {
     "name": "stdout",
     "output_type": "stream",
     "text": [
      "<class 'numpy.ndarray'>\n",
      "(10000, 10)\n"
     ]
    }
   ],
   "source": [
    "y_test = to_categorical(Y_Test, 10)\n",
    "print(type(y_test))\n",
    "print(y_test.shape)"
   ]
  },
  {
   "cell_type": "code",
   "execution_count": 26,
   "metadata": {},
   "outputs": [],
   "source": [
    "class LossHistory(tf.keras.callbacks.Callback):\n",
    "    \n",
    "    def on_train_begin(self, logs = {}):\n",
    "        \n",
    "        self.history = {\n",
    "            'loss': []\n",
    "        }\n",
    "        \n",
    "    def on_epoch_end(self, epoch, logs = {}):\n",
    "\n",
    "        self.history['loss'].append(logs.get('loss'))"
   ]
  },
  {
   "cell_type": "code",
   "execution_count": 27,
   "metadata": {},
   "outputs": [],
   "source": [
    "history_own = LossHistory()"
   ]
  },
  {
   "cell_type": "code",
   "execution_count": 28,
   "metadata": {},
   "outputs": [],
   "source": [
    "model = Sequential()"
   ]
  },
  {
   "cell_type": "code",
   "execution_count": 29,
   "metadata": {},
   "outputs": [],
   "source": [
    "from tensorflow.keras.initializers import glorot_normal"
   ]
  },
  {
   "cell_type": "code",
   "execution_count": 30,
   "metadata": {},
   "outputs": [],
   "source": [
    "model.add(Dense(48, activation = 'sigmoid', input_shape = (784, ), kernel_initializer = glorot_normal(seed = 6)))\n",
    "model.add(Dense(10, activation = 'softmax', kernel_initializer = glorot_normal(seed = 7)))"
   ]
  },
  {
   "cell_type": "code",
   "execution_count": 31,
   "metadata": {},
   "outputs": [],
   "source": [
    "optimizer = Adam(learning_rate = 0.05)"
   ]
  },
  {
   "cell_type": "code",
   "execution_count": 32,
   "metadata": {},
   "outputs": [],
   "source": [
    "model.compile(optimizer = optimizer, loss = 'binary_crossentropy', metrics = ['accuracy'])"
   ]
  },
  {
   "cell_type": "code",
   "execution_count": 33,
   "metadata": {},
   "outputs": [
    {
     "name": "stdout",
     "output_type": "stream",
     "text": [
      "Train on 48000 samples, validate on 12000 samples\n",
      "Epoch 1/10\n",
      "48000/48000 [==============================] - 5s 107us/sample - loss: 0.2753 - accuracy: 0.9065 - val_loss: 0.2769 - val_accuracy: 0.9166\n",
      "Epoch 2/10\n",
      "48000/48000 [==============================] - 5s 95us/sample - loss: 0.2694 - accuracy: 0.9081 - val_loss: 0.2606 - val_accuracy: 0.9068\n",
      "Epoch 3/10\n",
      "48000/48000 [==============================] - 5s 99us/sample - loss: 0.2694 - accuracy: 0.9062 - val_loss: 0.2659 - val_accuracy: 0.9057\n",
      "Epoch 4/10\n",
      "48000/48000 [==============================] - 5s 98us/sample - loss: 0.2767 - accuracy: 0.9086 - val_loss: 0.2693 - val_accuracy: 0.9142\n",
      "Epoch 5/10\n",
      "48000/48000 [==============================] - 4s 93us/sample - loss: 0.2725 - accuracy: 0.9106 - val_loss: 0.2677 - val_accuracy: 0.9119\n",
      "Epoch 6/10\n",
      "48000/48000 [==============================] - 5s 95us/sample - loss: 0.2766 - accuracy: 0.9109 - val_loss: 0.2661 - val_accuracy: 0.9143\n",
      "Epoch 7/10\n",
      "48000/48000 [==============================] - 5s 96us/sample - loss: 0.2661 - accuracy: 0.9122 - val_loss: 0.2673 - val_accuracy: 0.9119\n",
      "Epoch 8/10\n",
      "48000/48000 [==============================] - 5s 98us/sample - loss: 0.2690 - accuracy: 0.9077 - val_loss: 0.2594 - val_accuracy: 0.9110\n",
      "Epoch 9/10\n",
      "48000/48000 [==============================] - 4s 93us/sample - loss: 0.2682 - accuracy: 0.9113 - val_loss: 0.2613 - val_accuracy: 0.9113\n",
      "Epoch 10/10\n",
      "48000/48000 [==============================] - 4s 91us/sample - loss: 0.2463 - accuracy: 0.9136 - val_loss: 0.2472 - val_accuracy: 0.9107\n"
     ]
    },
    {
     "data": {
      "text/plain": [
       "<tensorflow.python.keras.callbacks.History at 0x202dcfc56d8>"
      ]
     },
     "execution_count": 33,
     "metadata": {},
     "output_type": "execute_result"
    }
   ],
   "source": [
    "model.fit(x = d_train, y = y_train, epochs = 10, batch_size = 32, validation_split = 0.2, callbacks = [history_own])"
   ]
  },
  {
   "cell_type": "code",
   "execution_count": 34,
   "metadata": {},
   "outputs": [
    {
     "data": {
      "text/plain": [
       "{'loss': [0.27533504044016205,\n",
       "  0.26942911618947984,\n",
       "  0.2694016211529573,\n",
       "  0.276691732664903,\n",
       "  0.27245342516899107,\n",
       "  0.276587271630764,\n",
       "  0.266121991366148,\n",
       "  0.2689879088302453,\n",
       "  0.2682433455487092,\n",
       "  0.24629371153314908]}"
      ]
     },
     "execution_count": 34,
     "metadata": {},
     "output_type": "execute_result"
    }
   ],
   "source": [
    "history_own.history"
   ]
  },
  {
   "cell_type": "code",
   "execution_count": null,
   "metadata": {},
   "outputs": [],
   "source": []
  },
  {
   "cell_type": "code",
   "execution_count": null,
   "metadata": {},
   "outputs": [],
   "source": []
  },
  {
   "cell_type": "code",
   "execution_count": null,
   "metadata": {},
   "outputs": [],
   "source": []
  },
  {
   "cell_type": "code",
   "execution_count": null,
   "metadata": {},
   "outputs": [],
   "source": []
  },
  {
   "cell_type": "code",
   "execution_count": null,
   "metadata": {},
   "outputs": [],
   "source": []
  },
  {
   "cell_type": "code",
   "execution_count": null,
   "metadata": {},
   "outputs": [],
   "source": []
  },
  {
   "cell_type": "code",
   "execution_count": null,
   "metadata": {},
   "outputs": [],
   "source": []
  },
  {
   "cell_type": "code",
   "execution_count": null,
   "metadata": {},
   "outputs": [],
   "source": []
  },
  {
   "cell_type": "code",
   "execution_count": null,
   "metadata": {},
   "outputs": [],
   "source": []
  },
  {
   "cell_type": "code",
   "execution_count": null,
   "metadata": {},
   "outputs": [],
   "source": []
  },
  {
   "cell_type": "code",
   "execution_count": null,
   "metadata": {},
   "outputs": [],
   "source": []
  }
 ],
 "metadata": {
  "kernelspec": {
   "display_name": "Python 3",
   "language": "python",
   "name": "python3"
  },
  "language_info": {
   "codemirror_mode": {
    "name": "ipython",
    "version": 3
   },
   "file_extension": ".py",
   "mimetype": "text/x-python",
   "name": "python",
   "nbconvert_exporter": "python",
   "pygments_lexer": "ipython3",
   "version": "3.7.0"
  }
 },
 "nbformat": 4,
 "nbformat_minor": 2
}
